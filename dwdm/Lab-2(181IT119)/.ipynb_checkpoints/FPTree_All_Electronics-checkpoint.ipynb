{
 "cells": [
  {
   "cell_type": "code",
   "execution_count": 1,
   "metadata": {
    "id": "186b6752"
   },
   "outputs": [],
   "source": [
    "from csv import reader\n",
    "from collections import defaultdict\n",
    "from itertools import chain, combinations\n"
   ]
  },
  {
   "cell_type": "code",
   "execution_count": 2,
   "metadata": {
    "id": "ca8df7ee"
   },
   "outputs": [],
   "source": [
    "class TreeNode:\n",
    "    def __init__(self, itemName, frequency, parentTreeNode):\n",
    "        self.itemName = itemName\n",
    "        self.count = frequency\n",
    "        self.parent = parentTreeNode\n",
    "        self.children = {}\n",
    "        self.next = None\n",
    "\n",
    "    def incrementCount(self, frequency):\n",
    "        self.count += frequency\n",
    "\n",
    "    def printTree(self, ind=1):\n",
    "        print('  ' * ind, self.itemName, ' ', self.count)\n",
    "        for child in list(self.children.values()):\n",
    "            child.printTree(ind+1)"
   ]
  },
  {
   "cell_type": "code",
   "execution_count": 3,
   "metadata": {
    "id": "27a030e4"
   },
   "outputs": [],
   "source": [
    "def readFile(fname):\n",
    "    itemSetList = []\n",
    "    frequency = []\n",
    "    \n",
    "    # iter=0\n",
    "    # flg=0\n",
    "    with open(fname, 'r') as file:\n",
    "        csv_reader = reader(file)\n",
    "        for line in csv_reader:\n",
    "            # if flg==0:\n",
    "            #   flg=1\n",
    "            #   continue\n",
    "            # if iter==100:\n",
    "              # break\n",
    "            line = list(filter(None, line))\n",
    "            itemSetList.append(line)\n",
    "            frequency.append(1)\n",
    "            # iter=iter+1\n",
    "\n",
    "    return itemSetList, frequency"
   ]
  },
  {
   "cell_type": "code",
   "execution_count": 4,
   "metadata": {
    "id": "ca934396"
   },
   "outputs": [],
   "source": [
    "def buildTree(itemSetList, frequency, minSup):\n",
    "    headerTable = defaultdict(int)\n",
    "    # Counting frequency and create header table\n",
    "    for idx, itemSet in enumerate(itemSetList):\n",
    "        for item in itemSet:\n",
    "            headerTable[item] += frequency[idx]\n",
    "\n",
    "    # Deleting items below minSup\n",
    "    headerTable = dict((item, sup)\n",
    "                       for item, sup in headerTable.items() if sup >= minSup)\n",
    "    if(len(headerTable) == 0):\n",
    "        return None, None\n",
    "\n",
    "    # HeaderTable column [Item: [frequency, headTreeNode]]\n",
    "    for item in headerTable:\n",
    "        headerTable[item] = [headerTable[item], None]\n",
    "\n",
    "    # Init Null head TreeNode\n",
    "    fpTree = TreeNode('Null', 1, None)\n",
    "    # Update FP tree for each cleaned and sorted itemSet\n",
    "    for idx, itemSet in enumerate(itemSetList):\n",
    "        itemSet = [item for item in itemSet if item in headerTable]\n",
    "        itemSet.sort(key=lambda item: headerTable[item][0], reverse=True)\n",
    "        # Traverse from root to leaf, update tree with given item\n",
    "        currentTreeNode = fpTree\n",
    "        for item in itemSet:\n",
    "            currentTreeNode = updateTree(\n",
    "                item, currentTreeNode, headerTable, frequency[idx])\n",
    "\n",
    "    return fpTree, headerTable\n",
    "\n",
    "\n",
    "def updateHeaderTable(item, targetTreeNode, headerTable):\n",
    "    if(headerTable[item][1] == None):\n",
    "        headerTable[item][1] = targetTreeNode\n",
    "    else:\n",
    "        currentTreeNode = headerTable[item][1]\n",
    "        # Traverse to the last TreeNode then link it to the target\n",
    "        while currentTreeNode.next != None:\n",
    "            currentTreeNode = currentTreeNode.next\n",
    "        currentTreeNode.next = targetTreeNode\n",
    "\n",
    "\n",
    "def updateTree(item, treeNode, headerTable, frequency):\n",
    "    if item in treeNode.children:\n",
    "        # If the item already exists, incrementCount the count\n",
    "        treeNode.children[item].incrementCount(frequency)\n",
    "    else:\n",
    "        # Create a new branch\n",
    "        newItemTreeNode = TreeNode(item, frequency, treeNode)\n",
    "        treeNode.children[item] = newItemTreeNode\n",
    "        # Link the new branch to header table\n",
    "        updateHeaderTable(item, newItemTreeNode, headerTable)\n",
    "\n",
    "    return treeNode.children[item]\n",
    "\n",
    "\n",
    "def ascendFPtree(TreeNode, prefixPath):\n",
    "    if TreeNode.parent != None:\n",
    "        prefixPath.append(TreeNode.itemName)\n",
    "        ascendFPtree(TreeNode.parent, prefixPath)\n",
    "\n",
    "\n",
    "def findPrefixPath(basePat, headerTable):\n",
    "    # First TreeNode in linked list\n",
    "    treeNode = headerTable[basePat][1]\n",
    "    condPats = []\n",
    "    frequency = []\n",
    "    while treeNode != None:\n",
    "        prefixPath = []\n",
    "        # From leaf TreeNode all the way to root\n",
    "        ascendFPtree(treeNode, prefixPath)\n",
    "        if len(prefixPath) > 1:\n",
    "            # Storing the prefix path and it's corresponding count\n",
    "            condPats.append(prefixPath[1:])\n",
    "            frequency.append(treeNode.count)\n",
    "\n",
    "        # Go to next TreeNode\n",
    "        treeNode = treeNode.next\n",
    "    return condPats, frequency\n",
    "\n",
    "\n",
    "def mineTree(headerTable, minSup, preFix, freqItemList):\n",
    "    # Sort the items with frequency and create a list\n",
    "    sortedItemList = [item[0] for item in sorted(\n",
    "        list(headerTable.items()), key=lambda p:p[1][0])]\n",
    "    # Start with the lowest frequency\n",
    "    for item in sortedItemList:\n",
    "        # Pattern growth is achieved by the concatenation of suffix pattern with frequent patterns generated from conditional FP-tree\n",
    "        newFreqSet = preFix.copy()\n",
    "        newFreqSet.add(item)\n",
    "        freqItemList.append(newFreqSet)\n",
    "        # Find all prefix path, constrcut conditional pattern base\n",
    "        conditionalPattBase, frequency = findPrefixPath(item, headerTable)\n",
    "        # Construct conditonal FP Tree with conditional pattern base\n",
    "        conditionalTree, newHeaderTable = buildTree(\n",
    "            conditionalPattBase, frequency, minSup)\n",
    "        if newHeaderTable != None:\n",
    "            # Mining recursively on the tree\n",
    "            mineTree(newHeaderTable, minSup,\n",
    "                     newFreqSet, freqItemList)\n",
    "\n",
    "\n",
    "def powerset(s):\n",
    "    return chain.from_iterable(combinations(s, r) for r in range(1, len(s)))\n",
    "\n",
    "\n",
    "def getSupport(testSet, itemSetList):\n",
    "    count = 0\n",
    "    for itemSet in itemSetList:\n",
    "        if(set(testSet).issubset(itemSet)):\n",
    "            count += 1\n",
    "    return count\n",
    "\n",
    "\n",
    "def associationRule(freqItemSet, itemSetList, minConf):\n",
    "    rules = []\n",
    "    for itemSet in freqItemSet:\n",
    "        subsets = powerset(itemSet)\n",
    "        itemSetSup = getSupport(itemSet, itemSetList)\n",
    "        for s in subsets:\n",
    "            confidence = float(itemSetSup / getSupport(s, itemSetList))\n",
    "            if(confidence > minConf):\n",
    "              \n",
    "               \n",
    "                x = \"Rule: {} ==> {} , {}.\".format(set(s), set(itemSet.difference(s)), confidence)\n",
    "               \n",
    "                rules.append(x)\n",
    "               \n",
    "    return rules\n",
    "\n",
    "\n",
    "def getFrequencyFromList(itemSetList):\n",
    "    frequency = [1 for i in range(len(itemSetList))]\n",
    "    return frequency"
   ]
  },
  {
   "cell_type": "code",
   "execution_count": 5,
   "metadata": {
    "id": "d62189be"
   },
   "outputs": [],
   "source": [
    "def fpgrowth(itemSetList, minSupRatio, minConf):\n",
    "    frequency = getFrequencyFromList(itemSetList)\n",
    "    minSup = len(itemSetList) * minSupRatio\n",
    "    fpTree, headerTable = buildTree(itemSetList, frequency, minSup)\n",
    "    if(fpTree == None):\n",
    "        print('No frequent item set')\n",
    "    else:\n",
    "        freqItems = []\n",
    "        mineTree(headerTable, minSup, set(), freqItems)\n",
    "        rules = associationRule(freqItems, itemSetList, minConf)\n",
    "        return freqItems, rules"
   ]
  },
  {
   "cell_type": "code",
   "execution_count": 6,
   "metadata": {
    "id": "e4caf223"
   },
   "outputs": [],
   "source": [
    "def fpgrowthFromFile(fname, minSupRatio, minConf):\n",
    "    l_table = [[] for i in range(3)]\n",
    "    itemSetList, frequency = readFile(fname)\n",
    "    minSup = len(itemSetList) * minSupRatio\n",
    "    fpTree, headerTable = buildTree(itemSetList, frequency, minSup)\n",
    "    if(fpTree == None):\n",
    "        print('No frequent item set')\n",
    "    else:\n",
    "        freqItems = []\n",
    "        freqItemset = []\n",
    "        mineTree(headerTable, minSup, set(), freqItems)\n",
    "        \n",
    "        for i in freqItems:\n",
    "            l_table[len(i)-1].append(i)\n",
    "            # print(i)\n",
    "            if len(i) == 3:\n",
    "                freqItemset.append(i)\n",
    "        rules = associationRule(freqItemset, itemSetList, minConf)\n",
    "        return freqItemset, rules,l_table"
   ]
  },
  {
   "cell_type": "code",
   "execution_count": 7,
   "metadata": {
    "colab": {
     "base_uri": "https://localhost:8080/"
    },
    "id": "0a494b05",
    "outputId": "053220f1-f534-445e-f62c-d009d20121ae"
   },
   "outputs": [
    {
     "name": "stdout",
     "output_type": "stream",
     "text": [
      " *********** Intermediate Results *****************\n",
      "L1 table: \n",
      "[{'I5'}, {'I4'}, {'I1'}, {'I3'}, {'I2'}]\n",
      "L2 table: \n",
      "[{'I5', 'I1'}, {'I5', 'I2'}, {'I2', 'I4'}, {'I1', 'I2'}, {'I3', 'I2'}, {'I3', 'I1'}]\n",
      "L3 table: \n",
      "[{'I5', 'I1', 'I2'}, {'I3', 'I1', 'I2'}]\n",
      "\n",
      "Frequent Itemsets of length 3:\n",
      "\n",
      "[{'I5', 'I1', 'I2'}, {'I3', 'I1', 'I2'}] \n",
      "\n",
      "Association rules:\n",
      "\n",
      "Rule: {'I5'} ==> {'I1', 'I2'} , 1.0.\n",
      "Rule: {'I5', 'I1'} ==> {'I2'} , 1.0.\n",
      "Rule: {'I5', 'I2'} ==> {'I1'} , 1.0.\n"
     ]
    }
   ],
   "source": [
    "minSup = 0.22\n",
    "minConf = 0.7\n",
    "freqItemSet, rules,l_table = fpgrowthFromFile(\"AllElectronics.csv\", minSup, minConf)\n",
    "print(\" *********** Intermediate Results *****************\")\n",
    "for j in range(0,3):\n",
    "  print(\"L{} table: \".format(j+1))\n",
    "  print(l_table[j])\n",
    "\n",
    "    \n",
    "print(\"\")\n",
    "print(\"Frequent Itemsets of length 3:\\n\")\n",
    "print(freqItemSet, \"\\n\")\n",
    "print(\"Association rules:\\n\")\n",
    "for i in range(len(rules)):\n",
    "  print(rules[i])\n"
   ]
  },
  {
   "cell_type": "code",
   "execution_count": 7,
   "metadata": {
    "id": "edb654c8"
   },
   "outputs": [],
   "source": []
  },
  {
   "cell_type": "code",
   "execution_count": 7,
   "metadata": {
    "id": "g-5MN6QqwfhT"
   },
   "outputs": [],
   "source": []
  },
  {
   "cell_type": "code",
   "execution_count": 7,
   "metadata": {
    "id": "_tkQVj6A2jSH"
   },
   "outputs": [],
   "source": []
  },
  {
   "cell_type": "code",
   "execution_count": 7,
   "metadata": {
    "id": "jwr3VzdG3X6p"
   },
   "outputs": [],
   "source": []
  },
  {
   "cell_type": "code",
   "execution_count": 7,
   "metadata": {
    "id": "KCRD9qmp3bHj"
   },
   "outputs": [],
   "source": []
  }
 ],
 "metadata": {
  "accelerator": "GPU",
  "colab": {
   "name": " FPTree_All_Electronics.ipynb",
   "provenance": []
  },
  "kernelspec": {
   "display_name": "Python 3",
   "language": "python",
   "name": "python3"
  },
  "language_info": {
   "codemirror_mode": {
    "name": "ipython",
    "version": 3
   },
   "file_extension": ".py",
   "mimetype": "text/x-python",
   "name": "python",
   "nbconvert_exporter": "python",
   "pygments_lexer": "ipython3",
   "version": "3.8.8"
  }
 },
 "nbformat": 4,
 "nbformat_minor": 5
}
