{
  "cells": [
    {
      "cell_type": "code",
      "execution_count": 79,
      "id": "186b6752",
      "metadata": {
        "id": "186b6752"
      },
      "outputs": [],
      "source": [
        "from csv import reader\n",
        "from collections import defaultdict\n",
        "from itertools import chain, combinations\n"
      ]
    },
    {
      "cell_type": "code",
      "execution_count": 80,
      "id": "ca8df7ee",
      "metadata": {
        "id": "ca8df7ee"
      },
      "outputs": [],
      "source": [
        "class TreeNode:\n",
        "    def __init__(self, itemName, frequency, parentTreeNode):\n",
        "        self.itemName = itemName\n",
        "        self.count = frequency\n",
        "        self.parent = parentTreeNode\n",
        "        self.children = {}\n",
        "        self.next = None\n",
        "\n",
        "    def incrementCount(self, frequency):\n",
        "        self.count += frequency\n",
        "\n",
        "    def printTree(self, ind=1):\n",
        "        print('  ' * ind, self.itemName, ' ', self.count)\n",
        "        for child in list(self.children.values()):\n",
        "            child.printTree(ind+1)"
      ]
    },
    {
      "cell_type": "code",
      "execution_count": 81,
      "id": "27a030e4",
      "metadata": {
        "id": "27a030e4"
      },
      "outputs": [],
      "source": [
        "def readFile(fname):\n",
        "    itemSetList = []\n",
        "    frequency = []\n",
        "    \n",
        "    iter=0\n",
        "    flg=0\n",
        "    with open(fname, 'r') as file:\n",
        "        csv_reader = reader(file)\n",
        "        for line in csv_reader:\n",
        "            if flg==0:\n",
        "              flg=1\n",
        "              continue\n",
        "            if iter==100:\n",
        "              break\n",
        "            line = list(filter(None, line))\n",
        "            itemSetList.append(line)\n",
        "            frequency.append(1)\n",
        "            iter=iter+1\n",
        "\n",
        "    return itemSetList, frequency"
      ]
    },
    {
      "cell_type": "code",
      "execution_count": 82,
      "id": "ca934396",
      "metadata": {
        "id": "ca934396"
      },
      "outputs": [],
      "source": [
        "def buildTree(itemSetList, frequency, minSup):\n",
        "    headerTable = defaultdict(int)\n",
        "    # Counting frequency and create header table\n",
        "    for idx, itemSet in enumerate(itemSetList):\n",
        "        for item in itemSet:\n",
        "            headerTable[item] += frequency[idx]\n",
        "\n",
        "    # Deleting items below minSup\n",
        "    headerTable = dict((item, sup)\n",
        "                       for item, sup in headerTable.items() if sup >= minSup)\n",
        "    if(len(headerTable) == 0):\n",
        "        return None, None\n",
        "\n",
        "    # HeaderTable column [Item: [frequency, headTreeNode]]\n",
        "    for item in headerTable:\n",
        "        headerTable[item] = [headerTable[item], None]\n",
        "\n",
        "    # Init Null head TreeNode\n",
        "    fpTree = TreeNode('Null', 1, None)\n",
        "    # Update FP tree for each cleaned and sorted itemSet\n",
        "    for idx, itemSet in enumerate(itemSetList):\n",
        "        itemSet = [item for item in itemSet if item in headerTable]\n",
        "        itemSet.sort(key=lambda item: headerTable[item][0], reverse=True)\n",
        "        # Traverse from root to leaf, update tree with given item\n",
        "        currentTreeNode = fpTree\n",
        "        for item in itemSet:\n",
        "            currentTreeNode = updateTree(\n",
        "                item, currentTreeNode, headerTable, frequency[idx])\n",
        "\n",
        "    return fpTree, headerTable\n",
        "\n",
        "\n",
        "def updateHeaderTable(item, targetTreeNode, headerTable):\n",
        "    if(headerTable[item][1] == None):\n",
        "        headerTable[item][1] = targetTreeNode\n",
        "    else:\n",
        "        currentTreeNode = headerTable[item][1]\n",
        "        # Traverse to the last TreeNode then link it to the target\n",
        "        while currentTreeNode.next != None:\n",
        "            currentTreeNode = currentTreeNode.next\n",
        "        currentTreeNode.next = targetTreeNode\n",
        "\n",
        "\n",
        "def updateTree(item, treeNode, headerTable, frequency):\n",
        "    if item in treeNode.children:\n",
        "        # If the item already exists, incrementCount the count\n",
        "        treeNode.children[item].incrementCount(frequency)\n",
        "    else:\n",
        "        # Create a new branch\n",
        "        newItemTreeNode = TreeNode(item, frequency, treeNode)\n",
        "        treeNode.children[item] = newItemTreeNode\n",
        "        # Link the new branch to header table\n",
        "        updateHeaderTable(item, newItemTreeNode, headerTable)\n",
        "\n",
        "    return treeNode.children[item]\n",
        "\n",
        "\n",
        "def ascendFPtree(TreeNode, prefixPath):\n",
        "    if TreeNode.parent != None:\n",
        "        prefixPath.append(TreeNode.itemName)\n",
        "        ascendFPtree(TreeNode.parent, prefixPath)\n",
        "\n",
        "\n",
        "def findPrefixPath(basePat, headerTable):\n",
        "    # First TreeNode in linked list\n",
        "    treeNode = headerTable[basePat][1]\n",
        "    condPats = []\n",
        "    frequency = []\n",
        "    while treeNode != None:\n",
        "        prefixPath = []\n",
        "        # From leaf TreeNode all the way to root\n",
        "        ascendFPtree(treeNode, prefixPath)\n",
        "        if len(prefixPath) > 1:\n",
        "            # Storing the prefix path and it's corresponding count\n",
        "            condPats.append(prefixPath[1:])\n",
        "            frequency.append(treeNode.count)\n",
        "\n",
        "        # Go to next TreeNode\n",
        "        treeNode = treeNode.next\n",
        "    return condPats, frequency\n",
        "\n",
        "\n",
        "def mineTree(headerTable, minSup, preFix, freqItemList):\n",
        "    # Sort the items with frequency and create a list\n",
        "    sortedItemList = [item[0] for item in sorted(\n",
        "        list(headerTable.items()), key=lambda p:p[1][0])]\n",
        "    # Start with the lowest frequency\n",
        "    for item in sortedItemList:\n",
        "        # Pattern growth is achieved by the concatenation of suffix pattern with frequent patterns generated from conditional FP-tree\n",
        "        newFreqSet = preFix.copy()\n",
        "        newFreqSet.add(item)\n",
        "        freqItemList.append(newFreqSet)\n",
        "        # Find all prefix path, constrcut conditional pattern base\n",
        "        conditionalPattBase, frequency = findPrefixPath(item, headerTable)\n",
        "        # Construct conditonal FP Tree with conditional pattern base\n",
        "        conditionalTree, newHeaderTable = buildTree(\n",
        "            conditionalPattBase, frequency, minSup)\n",
        "        if newHeaderTable != None:\n",
        "            # Mining recursively on the tree\n",
        "            mineTree(newHeaderTable, minSup,\n",
        "                     newFreqSet, freqItemList)\n",
        "\n",
        "\n",
        "def powerset(s):\n",
        "    return chain.from_iterable(combinations(s, r) for r in range(1, len(s)))\n",
        "\n",
        "\n",
        "def getSupport(testSet, itemSetList):\n",
        "    count = 0\n",
        "    for itemSet in itemSetList:\n",
        "        if(set(testSet).issubset(itemSet)):\n",
        "            count += 1\n",
        "    return count\n",
        "\n",
        "\n",
        "def associationRule(freqItemSet, itemSetList, minConf):\n",
        "    rules = []\n",
        "    for itemSet in freqItemSet:\n",
        "        subsets = powerset(itemSet)\n",
        "        itemSetSup = getSupport(itemSet, itemSetList)\n",
        "        for s in subsets:\n",
        "            confidence = float(itemSetSup / getSupport(s, itemSetList))\n",
        "            if(confidence > minConf):\n",
        "              \n",
        "               \n",
        "                x = \"Rule: {} ==> {} , {}.\".format(set(s), set(itemSet.difference(s)), confidence)\n",
        "               \n",
        "                rules.append(x)\n",
        "               \n",
        "    return rules\n",
        "\n",
        "\n",
        "def getFrequencyFromList(itemSetList):\n",
        "    frequency = [1 for i in range(len(itemSetList))]\n",
        "    return frequency"
      ]
    },
    {
      "cell_type": "code",
      "execution_count": 83,
      "id": "d62189be",
      "metadata": {
        "id": "d62189be"
      },
      "outputs": [],
      "source": [
        "def fpgrowth(itemSetList, minSupRatio, minConf):\n",
        "    frequency = getFrequencyFromList(itemSetList)\n",
        "    minSup = len(itemSetList) * minSupRatio\n",
        "    fpTree, headerTable = buildTree(itemSetList, frequency, minSup)\n",
        "    if(fpTree == None):\n",
        "        print('No frequent item set')\n",
        "    else:\n",
        "        freqItems = []\n",
        "        mineTree(headerTable, minSup, set(), freqItems)\n",
        "        rules = associationRule(freqItems, itemSetList, minConf)\n",
        "        return freqItems, rules"
      ]
    },
    {
      "cell_type": "code",
      "execution_count": 84,
      "id": "e4caf223",
      "metadata": {
        "id": "e4caf223"
      },
      "outputs": [],
      "source": [
        "def fpgrowthFromFile(fname, minSupRatio, minConf):\n",
        "    l_table = [[] for i in range(4)]\n",
        "    itemSetList, frequency = readFile(fname)\n",
        "    minSup = len(itemSetList) * minSupRatio\n",
        "    fpTree, headerTable = buildTree(itemSetList, frequency, minSup)\n",
        "    if(fpTree == None):\n",
        "        print('No frequent item set')\n",
        "    else:\n",
        "        freqItems = []\n",
        "        freqItemset = []\n",
        "        mineTree(headerTable, minSup, set(), freqItems)\n",
        "        \n",
        "        for i in freqItems:\n",
        "            l_table[len(i)-1].append(i)\n",
        "            # print(i)\n",
        "            if len(i) == 4:\n",
        "                freqItemset.append(i)\n",
        "        rules = associationRule(freqItemset, itemSetList, minConf)\n",
        "        return freqItemset, rules,l_table"
      ]
    },
    {
      "cell_type": "code",
      "execution_count": 85,
      "id": "0a494b05",
      "metadata": {
        "colab": {
          "base_uri": "https://localhost:8080/"
        },
        "id": "0a494b05",
        "outputId": "97100d05-5767-43f8-9f4b-d4336f3631fe"
      },
      "outputs": [
        {
          "output_type": "stream",
          "name": "stdout",
          "text": [
            " *********** Intermediate Results *****************\n",
            "L1 table: \n",
            "[{'37'}, {'60'}, {'79'}, {'147'}, {'161'}, {'170'}, {'179'}, {'186'}, {'237'}, {'242'}, {'258'}, {'310'}, {'340'}, {'89'}, {'105'}, {'110'}, {'152'}, {'225'}, {'65'}, {'36'}, {'32'}, {'41'}, {'38'}, {'48'}, {'39'}]\n",
            "L2 table: \n",
            "[{'37', '38'}, {'39', '79'}, {'147', '48'}, {'170', '38'}, {'170', '48'}, {'170', '39'}, {'39', '237'}, {'39', '242'}, {'89', '39'}, {'89', '48'}, {'105', '38'}, {'105', '39'}, {'110', '41'}, {'110', '38'}, {'110', '39'}, {'152', '39'}, {'48', '65'}, {'39', '65'}, {'41', '36'}, {'48', '36'}, {'39', '36'}, {'36', '38'}, {'38', '32'}, {'41', '32'}, {'48', '32'}, {'39', '32'}, {'41', '38'}, {'41', '48'}, {'41', '39'}, {'48', '38'}, {'39', '38'}, {'48', '39'}]\n",
            "L3 table: \n",
            "[{'170', '48', '38'}, {'170', '48', '39'}, {'170', '39', '38'}, {'89', '48', '39'}, {'105', '39', '38'}, {'110', '39', '38'}, {'48', '39', '65'}, {'41', '36', '38'}, {'48', '36', '38'}, {'39', '36', '38'}, {'38', '39', '32'}, {'48', '38', '32'}, {'41', '39', '32'}, {'41', '48', '32'}, {'48', '39', '32'}, {'41', '48', '38'}, {'41', '39', '38'}, {'41', '48', '39'}, {'48', '39', '38'}]\n",
            "L4 table: \n",
            "[{'170', '48', '39', '38'}, {'48', '38', '39', '32'}, {'41', '48', '39', '32'}, {'41', '48', '39', '38'}]\n",
            "\n",
            "Frequent Itemsets of length 4:\n",
            "\n",
            "[{'170', '48', '39', '38'}, {'48', '38', '39', '32'}, {'41', '48', '39', '32'}, {'41', '48', '39', '38'}] \n",
            "\n",
            "Association rules:\n",
            "\n",
            "Rule: {'170'} ==> {'48', '39', '38'} , 1.0.\n",
            "Rule: {'170', '48'} ==> {'39', '38'} , 1.0.\n",
            "Rule: {'170', '39'} ==> {'48', '38'} , 1.0.\n",
            "Rule: {'170', '38'} ==> {'48', '39'} , 1.0.\n",
            "Rule: {'170', '48', '39'} ==> {'38'} , 1.0.\n",
            "Rule: {'170', '48', '38'} ==> {'39'} , 1.0.\n",
            "Rule: {'170', '39', '38'} ==> {'48'} , 1.0.\n",
            "Rule: {'32', '38'} ==> {'48', '39'} , 1.0.\n",
            "Rule: {'32', '48', '38'} ==> {'39'} , 1.0.\n",
            "Rule: {'32', '39', '38'} ==> {'48'} , 1.0.\n",
            "Rule: {'41', '32'} ==> {'48', '39'} , 0.75.\n",
            "Rule: {'41', '48', '32'} ==> {'39'} , 1.0.\n",
            "Rule: {'41', '39', '32'} ==> {'48'} , 1.0.\n"
          ]
        }
      ],
      "source": [
        "minSup = 0.03\n",
        "minConf = 0.7\n",
        "freqItemSet, rules,l_table = fpgrowthFromFile(\"Goods_service_dataset.csv\", minSup, minConf)\n",
        "print(\" *********** Intermediate Results *****************\")\n",
        "for j in range(0,4):\n",
        "  print(\"L{} table: \".format(j+1))\n",
        "  print(l_table[j])\n",
        "\n",
        "    \n",
        "print(\"\")\n",
        "print(\"Frequent Itemsets of length 4:\\n\")\n",
        "print(freqItemSet, \"\\n\")\n",
        "print(\"Association rules:\\n\")\n",
        "for i in range(len(rules)):\n",
        "  print(rules[i])\n"
      ]
    },
    {
      "cell_type": "code",
      "execution_count": 85,
      "id": "edb654c8",
      "metadata": {
        "id": "edb654c8"
      },
      "outputs": [],
      "source": [
        ""
      ]
    },
    {
      "cell_type": "code",
      "source": [
        ""
      ],
      "metadata": {
        "id": "g-5MN6QqwfhT"
      },
      "id": "g-5MN6QqwfhT",
      "execution_count": 85,
      "outputs": []
    },
    {
      "cell_type": "code",
      "source": [
        ""
      ],
      "metadata": {
        "id": "_tkQVj6A2jSH"
      },
      "id": "_tkQVj6A2jSH",
      "execution_count": 85,
      "outputs": []
    },
    {
      "cell_type": "code",
      "source": [
        ""
      ],
      "metadata": {
        "id": "jwr3VzdG3X6p"
      },
      "id": "jwr3VzdG3X6p",
      "execution_count": 85,
      "outputs": []
    },
    {
      "cell_type": "code",
      "source": [
        ""
      ],
      "metadata": {
        "id": "KCRD9qmp3bHj"
      },
      "id": "KCRD9qmp3bHj",
      "execution_count": 85,
      "outputs": []
    }
  ],
  "metadata": {
    "kernelspec": {
      "display_name": "Python 3 (ipykernel)",
      "language": "python",
      "name": "python3"
    },
    "language_info": {
      "codemirror_mode": {
        "name": "ipython",
        "version": 3
      },
      "file_extension": ".py",
      "mimetype": "text/x-python",
      "name": "python",
      "nbconvert_exporter": "python",
      "pygments_lexer": "ipython3",
      "version": "3.8.8"
    },
    "colab": {
      "name": "FPTree_Goods_Dataset.ipynb",
      "provenance": []
    },
    "accelerator": "GPU"
  },
  "nbformat": 4,
  "nbformat_minor": 5
}